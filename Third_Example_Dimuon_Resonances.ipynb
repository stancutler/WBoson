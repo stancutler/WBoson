{
 "cells": [
  {
   "cell_type": "markdown",
   "metadata": {},
   "source": [
    "<img src=\"http://files.oproject.org/img/HeaderOpenData.png\">\n",
    "\n",
    "# CMS Open Data Example #3: Di-Muon Resonances\n",
    "<img src=\"http://cms.web.cern.ch/sites/cms.web.cern.ch/files/styles/large/public/field/image/2011-bs-1-2.jpg?itok=k5_hcnFt\"></img> <BR>\n",
    "## Import Modules and Turn on Javascript"
   ]
  },
  {
   "cell_type": "code",
   "execution_count": null,
   "metadata": {
    "collapsed": false
   },
   "outputs": [],
   "source": [
    "from ROOT import TTree, TFile, TCanvas, TH1F, TLorentzVector\n",
    "\n",
    "%jsroot on"
   ]
  },
  {
   "cell_type": "markdown",
   "metadata": {},
   "source": [
    "## Read in Data from Input File"
   ]
  },
  {
   "cell_type": "code",
   "execution_count": null,
   "metadata": {
    "collapsed": false
   },
   "outputs": [],
   "source": [
    "file = TFile(\"data/Dimuons.root\",\"READ\");"
   ]
  },
  {
   "cell_type": "markdown",
   "metadata": {
    "collapsed": true
   },
   "source": [
    "# Compute Di-Muon Invariant Mass\n",
    "Let's calculate again the invariant mass $M$ of two muons and focus on various parts of the dimuon mass spectrum"
   ]
  },
  {
   "cell_type": "markdown",
   "metadata": {},
   "source": [
    "## Setup a Canvas"
   ]
  },
  {
   "cell_type": "code",
   "execution_count": null,
   "metadata": {
    "collapsed": true
   },
   "outputs": [],
   "source": [
    "Canvas = TCanvas()"
   ]
  },
  {
   "cell_type": "markdown",
   "metadata": {},
   "source": [
    "## Declare Histograms\n",
    "For dimuon mass regions of interest 2.5-3.5 GeV and 80-100 GeV"
   ]
  },
  {
   "cell_type": "code",
   "execution_count": null,
   "metadata": {
    "collapsed": false
   },
   "outputs": [],
   "source": [
    "J_psi    = TH1F(\"J_psi\",  \"#mu#mu mass;#mu#mu mass [GeV];Events\", 100, 2.5, 3.5)\n",
    "\n",
    "Z_boson  = TH1F(\"Z_Boson\",\"#mu#mu mass;#mu#mu mass [GeV];Events\", 200, 80, 100)"
   ]
  },
  {
   "cell_type": "markdown",
   "metadata": {
    "collapsed": true
   },
   "source": [
    "## Loop Over the Events in the Data File\n",
    "### <tab> Compute Di-Muon Invariant Mass and Fill Histograms for Various Resonances"
   ]
  },
  {
   "cell_type": "code",
   "execution_count": null,
   "metadata": {
    "collapsed": false
   },
   "outputs": [],
   "source": [
    "for dimu in file.Dimuons:\n",
    "    \n",
    "    if dimu.Muon1_Global and dimu.Muon2_Global:\n",
    "\n",
    "        muon1 = TLorentzVector(dimu.Muon1_Px, dimu.Muon1_Py, dimu.Muon1_Pz, dimu.Muon1_Energy)\n",
    "    \n",
    "        muon2 = TLorentzVector(dimu.Muon2_Px, dimu.Muon2_Py, dimu.Muon2_Pz, dimu.Muon2_Energy)\n",
    "    \n",
    "        InvariantMass = (muon1 + muon2).M()\n",
    "        \n",
    "        if  InvariantMass > 2.0 and InvariantMass < 3.5:\n",
    "            \n",
    "               J_psi.Fill(InvariantMass)\n",
    "        \n",
    "        if  InvariantMass > 60.0 and InvariantMass < 120.0:\n",
    "            \n",
    "               Z_boson.Fill(InvariantMass)        "
   ]
  },
  {
   "cell_type": "markdown",
   "metadata": {},
   "source": [
    "## Plot the J/$\\psi$ Peak (Nobel Prize-Winning Discovery in 1974)\n",
    "<img src=\"https://www.bnl.gov/bnlweb/history/nobel/images/Ting-group-335px.jpg\"></img>"
   ]
  },
  {
   "cell_type": "code",
   "execution_count": null,
   "metadata": {
    "collapsed": false
   },
   "outputs": [],
   "source": [
    "J_psi.Draw()\n",
    "\n",
    "Canvas.Draw()"
   ]
  },
  {
   "cell_type": "markdown",
   "metadata": {},
   "source": [
    "## Plot the Z Boson Peak (Nobel Prize-Winning Discovery in 1983)"
   ]
  },
  {
   "cell_type": "code",
   "execution_count": null,
   "metadata": {
    "collapsed": false
   },
   "outputs": [],
   "source": [
    "Canvas.Clear()\n",
    "\n",
    "Z_boson.Draw()\n",
    "\n",
    "Canvas.Draw()"
   ]
  },
  {
   "cell_type": "markdown",
   "metadata": {},
   "source": [
    "### Compare with the Z boson discovery plot"
   ]
  },
  {
   "cell_type": "markdown",
   "metadata": {},
   "source": [
    "<img src=\"https://nipunablogs.files.wordpress.com/2013/06/image.png?w=541&h=480\"></img>"
   ]
  },
  {
   "cell_type": "markdown",
   "metadata": {},
   "source": [
    "## Exercise: Can You Spot Other Di-Muon Resonances in the Dimuon Spectrum?\n",
    "### Make a Separate Histogram For Each One and Plot It"
   ]
  },
  {
   "cell_type": "code",
   "execution_count": null,
   "metadata": {
    "collapsed": true
   },
   "outputs": [],
   "source": []
  }
 ],
 "metadata": {
  "kernelspec": {
   "display_name": "Python 2",
   "language": "python",
   "name": "python2"
  },
  "language_info": {
   "codemirror_mode": {
    "name": "ipython",
    "version": 2
   },
   "file_extension": ".py",
   "mimetype": "text/x-python",
   "name": "python",
   "nbconvert_exporter": "python",
   "pygments_lexer": "ipython2",
   "version": "2.7.9"
  }
 },
 "nbformat": 4,
 "nbformat_minor": 0
}
